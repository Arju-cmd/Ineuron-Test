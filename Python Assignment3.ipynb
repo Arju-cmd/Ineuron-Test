{
 "cells": [
  {
   "cell_type": "markdown",
   "metadata": {},
   "source": [
    "# 1.1) Write a Python Program to implement your own myreduce() function which works exactly like Python's built-in function reduce()"
   ]
  },
  {
   "cell_type": "code",
   "execution_count": 33,
   "metadata": {},
   "outputs": [
    {
     "name": "stdout",
     "output_type": "stream",
     "text": [
      "Input:\n",
      "Please insert the number :3\n",
      "Output:\n",
      "List of First n Natural numbers are: [1, 2, 3]\n",
      "Sum of List elements are : 6\n"
     ]
    }
   ],
   "source": [
    "#Sum of First n Natural numbers , Ask user for the input.\n",
    "\n",
    "\n",
    "def myreduce(num):\n",
    "    ''' This functionm will return sum of n Natural numbers'''\n",
    "    num_list=list(range(1,number+1))\n",
    "    sum_of_elements=0\n",
    "    \n",
    "    for i in num_list:\n",
    "        sum_of_elements+=i\n",
    "        \n",
    "    return num_list,sum_of_elements\n",
    "\n",
    "#Input from the user\n",
    "print(\"Input:\")\n",
    "number=int(input(\"Please insert the number :\"))\n",
    "\n",
    "#Function Execution\n",
    "\n",
    "output_value=myreduce(number)\n",
    "\n",
    "#Output\n",
    "print(\"Output:\")\n",
    "print(\"List of First n Natural numbers are:\",output_value[0])\n",
    "print(\"Sum of List elements are :\",output_value[1])"
   ]
  },
  {
   "cell_type": "code",
   "execution_count": null,
   "metadata": {},
   "outputs": [],
   "source": []
  },
  {
   "cell_type": "code",
   "execution_count": 2,
   "metadata": {},
   "outputs": [
    {
     "name": "stdout",
     "output_type": "stream",
     "text": [
      "Input:\n",
      "Please insert the number :3\n",
      "Output:\n",
      "List of First n Natural numbers are: [1, 2, 3]\n",
      "Sum of List elements are : 6\n"
     ]
    }
   ],
   "source": [
    "# Same Solution can be done by Built-in reduce() function\n",
    "\n",
    "print(\"Input:\")\n",
    "number=int(input(\"Please insert the number :\"))\n",
    "\n",
    "num_list= list(range(1,(number+1)))\n",
    "# Import reduce function \n",
    "from functools import reduce\n",
    "sum_of_elements = reduce((lambda x, y: x + y), num_list)\n",
    "\n",
    "#Output\n",
    "print(\"Output:\")\n",
    "print(\"List of First n Natural numbers are:\",num_list)\n",
    "print(\"Sum of List elements are :\",sum_of_elements)"
   ]
  },
  {
   "cell_type": "markdown",
   "metadata": {},
   "source": [
    "# 1.2) Write a Python program to implement your own myfilter() function which works exactlylike Python's built-in function filter()"
   ]
  },
  {
   "cell_type": "code",
   "execution_count": 34,
   "metadata": {},
   "outputs": [
    {
     "name": "stdout",
     "output_type": "stream",
     "text": [
      "Input:\n",
      "Please insert the number: 34\n",
      "Output:\n",
      "List of numbers: [1, 2, 3, 4, 5, 6, 7, 8, 9, 10, 11, 12, 13, 14, 15, 16, 17, 18, 19, 20, 21, 22, 23, 24, 25, 26, 27, 28, 29, 30, 31, 32, 33, 34]\n",
      "List of Even numbers, which are multiples of 5 are: [10, 20, 30]\n",
      "List of Odd numbers, which are multiples of 5 are: [5, 15, 25]\n"
     ]
    }
   ],
   "source": [
    "\n",
    "# Filter the even and odd number from list which are multiples  of 5\n",
    "\n",
    "#Input \n",
    "\n",
    "print(\"Input:\")\n",
    "number=int(input(\"Please insert the number: \"))\n",
    "\n",
    "num_list=list(range(1,number+1))\n",
    "\n",
    "\n",
    "def myfilter(num_list):\n",
    "    '''This function will filter even and odd numbers from list which are multiples of 5 '''\n",
    "    num_even_list=[]\n",
    "    num_odd_list=[]\n",
    "    \n",
    "    for i in num_list:\n",
    "        if(i%5==0):\n",
    "            if(i%2==0):\n",
    "                num_even_list.append(i)\n",
    "            else:\n",
    "                num_odd_list.append(i)\n",
    "                \n",
    "    return num_even_list,num_odd_list\n",
    "\n",
    "\n",
    "#Function Execution\n",
    "output_value=myfilter(num_list)\n",
    "\n",
    "#Output\n",
    "\n",
    "print(\"Output:\")\n",
    "print(\"List of numbers:\",num_list)\n",
    "print(\"List of Even numbers, which are multiples of 5 are:\",output_value[0])\n",
    "print(\"List of Odd numbers, which are multiples of 5 are:\",output_value[1])"
   ]
  },
  {
   "cell_type": "code",
   "execution_count": 3,
   "metadata": {},
   "outputs": [
    {
     "name": "stdout",
     "output_type": "stream",
     "text": [
      "Input:\n",
      "Please insert the number: 10\n",
      "Output:\n",
      "List of numbers: [1, 2, 3, 4, 5, 6, 7, 8, 9, 10]\n",
      "List of Even numbers, which are multiples of 5 are: [10]\n",
      "List of Odd numbers, which are multiples of 5 are: [5]\n"
     ]
    }
   ],
   "source": [
    "#Same solution can be approached by built-in filter() function\n",
    "\n",
    "#Input \n",
    "\n",
    "print(\"Input:\")\n",
    "number=int(input(\"Please insert the number: \"))\n",
    "\n",
    "num_list=list(range(1,number+1))\n",
    "\n",
    "num_even_list=list(filter(lambda x: x%2==0,list(filter(lambda x: x%5==0 ,num_list))))\n",
    "num_odd_list= list(filter(lambda x: x%2!=0,list(filter(lambda x: x%5==0 ,num_list))))\n",
    "\n",
    "print(\"Output:\")\n",
    "\n",
    "print(\"List of numbers:\",num_list)\n",
    "print(\"List of Even numbers, which are multiples of 5 are:\",num_even_list)\n",
    "print(\"List of Odd numbers, which are multiples of 5 are:\",num_odd_list)"
   ]
  },
  {
   "cell_type": "markdown",
   "metadata": {},
   "source": [
    "# 2) Implement List comprehensions to produce the following lists."
   ]
  },
  {
   "cell_type": "raw",
   "metadata": {},
   "source": [
    "## a) ['x', 'xx', 'xxx', 'xxxx', 'y', 'yy', 'yyy', 'yyyy', 'z', 'zz', 'zzz', 'zzzz']"
   ]
  },
  {
   "cell_type": "code",
   "execution_count": 10,
   "metadata": {},
   "outputs": [
    {
     "name": "stdout",
     "output_type": "stream",
     "text": [
      "['x', 'xx', 'xxx', 'xxxx', 'y', 'yy', 'yyy', 'yyyy', 'z', 'zz', 'zzz', 'zzzz']\n"
     ]
    }
   ],
   "source": [
    "word_1=list('xyz')\n",
    "word_2=[x*n for x in word_1 for n in range(1,5) ]\n",
    "print(word_2)"
   ]
  },
  {
   "cell_type": "code",
   "execution_count": 15,
   "metadata": {},
   "outputs": [
    {
     "data": {
      "text/plain": [
       "['x', 'y', 'z', 'xx', 'yy', 'zz', 'xxx', 'yyy', 'zzz', 'xxxx', 'yyyy', 'zzzz']"
      ]
     },
     "execution_count": 15,
     "metadata": {},
     "output_type": "execute_result"
    }
   ],
   "source": [
    "#b) ['x', 'y', 'z', 'xx', 'yy', 'zz', 'xxx', 'yyy', 'zzz', 'xxxx', 'yyyy', 'zzzz']\n",
    "[x*n for n in range(1,5) for x in word_1]\n"
   ]
  },
  {
   "cell_type": "code",
   "execution_count": 24,
   "metadata": {},
   "outputs": [],
   "source": [
    "# c) [[2], [3], [4], [3], [4], [5], [4], [5], [6]]"
   ]
  },
  {
   "cell_type": "code",
   "execution_count": 21,
   "metadata": {},
   "outputs": [
    {
     "name": "stdout",
     "output_type": "stream",
     "text": [
      "[[2], [3], [4], [3], [4], [5], [4], [5], [6]]\n"
     ]
    }
   ],
   "source": [
    "number=[2,3,4]\n",
    "numberdetails=[[x+n] for x in number for n in range(0,3)]\n",
    "print(numberdetails)"
   ]
  },
  {
   "cell_type": "code",
   "execution_count": null,
   "metadata": {},
   "outputs": [],
   "source": [
    "#d) [[2, 3, 4, 5], [3, 4, 5, 6], [4, 5, 6, 7], [5, 6, 7, 8]]"
   ]
  },
  {
   "cell_type": "code",
   "execution_count": 32,
   "metadata": {},
   "outputs": [
    {
     "name": "stdout",
     "output_type": "stream",
     "text": [
      "[[2, 3, 4, 5], [3, 4, 5, 6], [4, 5, 6, 7], [5, 6, 7, 8]]\n"
     ]
    }
   ],
   "source": [
    "number_2=[2,3,4,5]\n",
    "#number_3=[[x+n for n in range(0,4)] for x in number_2 ]\n",
    "print(number_3)"
   ]
  },
  {
   "cell_type": "code",
   "execution_count": 25,
   "metadata": {},
   "outputs": [],
   "source": [
    "#e) [(1, 1), (2, 1), (3, 1), (1, 2), (2, 2), (3, 2), (1, 3), (2, 3), (3, 3)]"
   ]
  },
  {
   "cell_type": "code",
   "execution_count": 29,
   "metadata": {},
   "outputs": [
    {
     "name": "stdout",
     "output_type": "stream",
     "text": [
      "[(1, 1), (2, 1), (3, 1), (1, 2), (2, 2), (3, 2), (1, 3), (2, 3), (3, 3)]\n"
     ]
    }
   ],
   "source": [
    "number_1=[1,2,3]\n",
    "number_b= [(b,a) for a in number_1 for b in number_1]\n",
    "print(number_b)"
   ]
  },
  {
   "cell_type": "code",
   "execution_count": null,
   "metadata": {},
   "outputs": [],
   "source": []
  },
  {
   "cell_type": "code",
   "execution_count": null,
   "metadata": {},
   "outputs": [],
   "source": []
  },
  {
   "cell_type": "code",
   "execution_count": null,
   "metadata": {},
   "outputs": [],
   "source": []
  },
  {
   "cell_type": "code",
   "execution_count": null,
   "metadata": {},
   "outputs": [],
   "source": []
  },
  {
   "cell_type": "code",
   "execution_count": null,
   "metadata": {},
   "outputs": [],
   "source": []
  },
  {
   "cell_type": "code",
   "execution_count": null,
   "metadata": {},
   "outputs": [],
   "source": []
  },
  {
   "cell_type": "code",
   "execution_count": null,
   "metadata": {},
   "outputs": [],
   "source": []
  },
  {
   "cell_type": "code",
   "execution_count": null,
   "metadata": {},
   "outputs": [],
   "source": []
  },
  {
   "cell_type": "code",
   "execution_count": null,
   "metadata": {},
   "outputs": [],
   "source": []
  },
  {
   "cell_type": "code",
   "execution_count": null,
   "metadata": {},
   "outputs": [],
   "source": []
  },
  {
   "cell_type": "code",
   "execution_count": null,
   "metadata": {},
   "outputs": [],
   "source": []
  },
  {
   "cell_type": "code",
   "execution_count": null,
   "metadata": {},
   "outputs": [],
   "source": []
  },
  {
   "cell_type": "code",
   "execution_count": null,
   "metadata": {},
   "outputs": [],
   "source": []
  },
  {
   "cell_type": "code",
   "execution_count": null,
   "metadata": {},
   "outputs": [],
   "source": []
  },
  {
   "cell_type": "code",
   "execution_count": 18,
   "metadata": {},
   "outputs": [
    {
     "name": "stdout",
     "output_type": "stream",
     "text": [
      "Enter number of student:2\n",
      "Enter Student Name:dseb\n",
      "Enter surname :snie\n",
      "Enter year_of_birth :33\n",
      "Enter school name: slkjnofi\n",
      "Enter Student Name:kslnie\n",
      "Enter surname :fmjioe\n",
      "Enter year_of_birth :334\n",
      "Enter school name: m vp;od\n"
     ]
    },
    {
     "data": {
      "text/html": [
       "<div>\n",
       "<style scoped>\n",
       "    .dataframe tbody tr th:only-of-type {\n",
       "        vertical-align: middle;\n",
       "    }\n",
       "\n",
       "    .dataframe tbody tr th {\n",
       "        vertical-align: top;\n",
       "    }\n",
       "\n",
       "    .dataframe thead th {\n",
       "        text-align: right;\n",
       "    }\n",
       "</style>\n",
       "<table border=\"1\" class=\"dataframe\">\n",
       "  <thead>\n",
       "    <tr style=\"text-align: right;\">\n",
       "      <th></th>\n",
       "      <th>name</th>\n",
       "      <th>school</th>\n",
       "      <th>surname</th>\n",
       "      <th>year_of_birth</th>\n",
       "    </tr>\n",
       "  </thead>\n",
       "  <tbody>\n",
       "    <tr>\n",
       "      <th>0</th>\n",
       "      <td>dseb</td>\n",
       "      <td>slkjnofi</td>\n",
       "      <td>snie</td>\n",
       "      <td>33</td>\n",
       "    </tr>\n",
       "    <tr>\n",
       "      <th>1</th>\n",
       "      <td>kslnie</td>\n",
       "      <td>m vp;od</td>\n",
       "      <td>fmjioe</td>\n",
       "      <td>334</td>\n",
       "    </tr>\n",
       "  </tbody>\n",
       "</table>\n",
       "</div>"
      ],
      "text/plain": [
       "     name    school surname year_of_birth\n",
       "0    dseb  slkjnofi    snie            33\n",
       "1  kslnie   m vp;od  fmjioe           334"
      ]
     },
     "execution_count": 18,
     "metadata": {},
     "output_type": "execute_result"
    }
   ],
   "source": [
    "import pandas as pd\n",
    "class student:\n",
    " def __init__(self):\n",
    "    self.name = input(\"Enter Student Name:\")\n",
    "    self.surname = input(\"Enter surname :\")\n",
    "    self.year_of_birth = input(\"Enter year_of_birth :\")\n",
    "        \n",
    "class school(student):\n",
    " def __init__(self, *args):\n",
    "    super().__init__(*args)\n",
    "    self.school = input(\"Enter school name: \")\n",
    " def __str__(self):\n",
    "        return (\"Student: \\n \\tName: \" + self.name +\"\\n \\tsurname: \" + str(self.surname) + \"\\n \\tyear_of_birth: \" + str(self.year_of_birth))  \n",
    "    \n",
    "numberofstudents = int(input(\"Enter number of student:\"))\n",
    "x = []\n",
    "for i in range (numberofstudents):\n",
    " schooldef = school()\n",
    " x.append(schooldef)\n",
    "pd.DataFrame.from_records([s.__dict__ for s in x])              "
   ]
  },
  {
   "cell_type": "code",
   "execution_count": null,
   "metadata": {},
   "outputs": [],
   "source": []
  },
  {
   "cell_type": "code",
   "execution_count": null,
   "metadata": {},
   "outputs": [],
   "source": []
  },
  {
   "cell_type": "code",
   "execution_count": null,
   "metadata": {},
   "outputs": [],
   "source": []
  },
  {
   "cell_type": "code",
   "execution_count": null,
   "metadata": {},
   "outputs": [],
   "source": []
  },
  {
   "cell_type": "code",
   "execution_count": null,
   "metadata": {},
   "outputs": [],
   "source": []
  },
  {
   "cell_type": "code",
   "execution_count": null,
   "metadata": {},
   "outputs": [],
   "source": []
  }
 ],
 "metadata": {
  "kernelspec": {
   "display_name": "Python 3",
   "language": "python",
   "name": "python3"
  },
  "language_info": {
   "codemirror_mode": {
    "name": "ipython",
    "version": 3
   },
   "file_extension": ".py",
   "mimetype": "text/x-python",
   "name": "python",
   "nbconvert_exporter": "python",
   "pygments_lexer": "ipython3",
   "version": "3.7.1"
  }
 },
 "nbformat": 4,
 "nbformat_minor": 2
}
